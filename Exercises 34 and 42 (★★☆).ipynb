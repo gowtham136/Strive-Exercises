{
 "cells": [
  {
   "cell_type": "code",
   "execution_count": 2,
   "id": "written-optics",
   "metadata": {},
   "outputs": [],
   "source": [
    "# Import the needed libraries\n",
    "import numpy as np"
   ]
  },
  {
   "cell_type": "markdown",
   "id": "polyphonic-finland",
   "metadata": {},
   "source": [
    "**34. How to get all the dates corresponding to the month of July 2016**"
   ]
  },
  {
   "cell_type": "code",
   "execution_count": 3,
   "id": "plastic-aaron",
   "metadata": {},
   "outputs": [
    {
     "output_type": "stream",
     "name": "stdout",
     "text": [
      "Dates in July 2016\n['2016-07-01' '2016-07-02' '2016-07-03' '2016-07-04' '2016-07-05'\n '2016-07-06' '2016-07-07' '2016-07-08' '2016-07-09' '2016-07-10'\n '2016-07-11' '2016-07-12' '2016-07-13' '2016-07-14' '2016-07-15'\n '2016-07-16' '2016-07-17' '2016-07-18' '2016-07-19' '2016-07-20'\n '2016-07-21' '2016-07-22' '2016-07-23' '2016-07-24' '2016-07-25'\n '2016-07-26' '2016-07-27' '2016-07-28' '2016-07-29' '2016-07-30'\n '2016-07-31']\n"
     ]
    }
   ],
   "source": [
    "print(\"Dates in July 2016\")\n",
    "print(np.arange('2016-07', '2016-08', dtype='datetime64[D]'))"
   ]
  },
  {
   "cell_type": "markdown",
   "id": "opposite-impact",
   "metadata": {},
   "source": [
    "**42. Consider two random array A and B, check if they are equal**"
   ]
  },
  {
   "cell_type": "code",
   "execution_count": 11,
   "id": "missing-reception",
   "metadata": {},
   "outputs": [
    {
     "output_type": "stream",
     "name": "stdout",
     "text": [
      "[[5 3]\n",
      " [5 5]\n",
      " [6 6]\n",
      " [5 5]]\n",
      "[[4 3]\n",
      " [5 3]\n",
      " [6 6]]\n",
      "<ipython-input-11-811d2de86dcb>:6: DeprecationWarning: elementwise comparison failed; this will raise an error in the future.\n",
      "  A==B\n"
     ]
    },
    {
     "output_type": "execute_result",
     "data": {
      "text/plain": [
       "array([[False,  True],\n",
       "       [ True, False],\n",
       "       [ True,  True]])"
      ]
     },
     "metadata": {},
     "execution_count": 11
    }
   ],
   "source": [
    "A= np.array([[4,3],[5,3],[6,6]])\n",
    "B= np.array([[5,3],[5,5],[6,6],[5,5]])\n",
    "C= np.array([[5,3],[5,5],[6,6]])\n",
    "print(B)\n",
    "print(A)\n",
    "A==B\n",
    "A==C"
   ]
  }
 ],
 "metadata": {
  "kernelspec": {
   "name": "python3",
   "display_name": "Python 3.8.8 64-bit (conda)"
  },
  "language_info": {
   "codemirror_mode": {
    "name": "ipython",
    "version": 3
   },
   "file_extension": ".py",
   "mimetype": "text/x-python",
   "name": "python",
   "nbconvert_exporter": "python",
   "pygments_lexer": "ipython3",
   "version": "3.8.8"
  }
 },
 "nbformat": 4,
 "nbformat_minor": 5
}