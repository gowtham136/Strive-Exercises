{
 "cells": [
  {
   "cell_type": "code",
   "execution_count": 1,
   "id": "ce844220",
   "metadata": {},
   "outputs": [
    {
     "name": "stdout",
     "output_type": "stream",
     "text": [
      "['9.3', '9.2', '9.0', '9.0', '9.0', '8.9', '8.9', '8.9', '8.8', '8.8', '8.8', '8.8', '8.8', '8.7', '8.7', '8.7', '8.7', '8.7', '8.6', '8.6', '8.6', '8.6', '8.6', '8.6', '8.6', '8.6', '8.6', '8.6', '8.6', '8.6', '8.6', '8.6', '8.5', '8.5', '8.5', '8.5', '8.5', '8.5', '8.5', '8.5', '8.5', '8.5', '8.5', '8.5', '8.5', '8.5', '8.5', '8.5', '8.5', '8.5', '8.5', '8.5', '8.5', '8.5', '8.5', '8.5', '8.5', '8.5', '8.5', '8.5', '8.5', '8.5', '8.5', '8.5', '8.5', '8.5', '8.5', '8.5', '8.5', '8.5', '8.5', '8.5', '8.5', '8.5', '8.5', '8.5', '8.5', '8.5', '8.5', '8.5', '8.5', '8.5', '8.5', '8.5', '8.5', '8.5', '8.5', '8.5', '8.5', '8.5', '8.5', '8.5', '8.5', '8.5', '8.5', '8.5', '8.5', '8.5']\n"
     ]
    }
   ],
   "source": [
    "import requests\n",
    "from bs4 import BeautifulSoup\n",
    "import pandas as pd\n",
    "page_1 = requests.get(\"https://www.imdb.com/search/title/?groups=top_100&sort=user_rating,desc\")\n",
    "soup= BeautifulSoup(page_1.content, \"html.parser\")\n",
    "\n",
    "\n",
    "\n",
    "all_rating = soup.find_all('div', class_=\"inline-block ratings-imdb-rating\")\n",
    "\n",
    "\n",
    "rating_list=[]\n",
    "for i in range(0, len(all_rating)-1):\n",
    "    rating_list.append(list(all_rating[i])[3].text)\n",
    "#print(rating_list)\n",
    "\n",
    "\n",
    "page_2= requests.get(\"https://www.imdb.com/search/title/?groups=top_100&sort=user_rating,asc&start=51&ref_=adv_nxt\")\n",
    "soup= BeautifulSoup(page_2.content, \"html.parser\")\n",
    "# travers through the soup\n",
    "\n",
    "all_rating_2= soup.find_all('div', class_=\"inline-block ratings-imdb-rating\")\n",
    "\n",
    "for j in range(0, len(all_rating)-1):\n",
    "    rating_list.append(list(all_rating[i])[3].text)\n",
    "print(rating_list)"
   ]
  }
 ],
 "metadata": {
  "kernelspec": {
   "display_name": "Python 3",
   "language": "python",
   "name": "python3"
  },
  "language_info": {
   "codemirror_mode": {
    "name": "ipython",
    "version": 3
   },
   "file_extension": ".py",
   "mimetype": "text/x-python",
   "name": "python",
   "nbconvert_exporter": "python",
   "pygments_lexer": "ipython3",
   "version": "3.8.8"
  }
 },
 "nbformat": 4,
 "nbformat_minor": 5
}
