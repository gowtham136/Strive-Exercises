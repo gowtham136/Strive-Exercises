{
 "cells": [
  {
   "cell_type": "code",
   "execution_count": 1,
   "id": "biological-worcester",
   "metadata": {},
   "outputs": [],
   "source": [
    "# Import the needed libraries\n",
    "import numpy as np"
   ]
  },
  {
   "cell_type": "markdown",
   "id": "champion-greensboro",
   "metadata": {},
   "source": [
    "**13. Create a 10x10 array with random values and find the minimum and maximum values**"
   ]
  },
  {
   "cell_type": "code",
   "execution_count": 21,
   "id": "joint-explorer",
   "metadata": {},
   "outputs": [
    {
     "output_type": "stream",
     "name": "stdout",
     "text": [
      "[[0.03284661 0.22670605 0.4756881  0.08887698 0.34704136 0.0369017\n  0.17460143 0.41353733 0.60185499 0.19640232]\n [0.82708208 0.95175171 0.9770669  0.87870212 0.77847845 0.08980411\n  0.06056746 0.46528906 0.51282846 0.18407315]\n [0.16446407 0.46216261 0.08867105 0.75451867 0.1758114  0.95865302\n  0.27520335 0.09694327 0.48001248 0.34532409]\n [0.51543825 0.17424203 0.14891085 0.78679406 0.47310422 0.91872419\n  0.64317455 0.69023366 0.36645524 0.81250814]\n [0.89397279 0.34118742 0.71371602 0.29112684 0.7202595  0.42811244\n  0.2690837  0.66712307 0.95069442 0.11522216]\n [0.94035557 0.69006474 0.73643138 0.58525438 0.84574817 0.25374085\n  0.45377639 0.67973397 0.60549348 0.19462446]\n [0.4652114  0.6274736  0.09362949 0.58513635 0.3656369  0.23453867\n  0.96936075 0.17812878 0.94680888 0.20530229]\n [0.8805645  0.29858819 0.84018339 0.67513678 0.82720739 0.26972302\n  0.36254559 0.82161201 0.14416459 0.47882967]\n [0.2405504  0.40141426 0.06734748 0.24992642 0.57125366 0.79538973\n  0.44859017 0.44092692 0.48822735 0.46545492]\n [0.54570809 0.75361313 0.29982871 0.25423    0.58998331 0.27427538\n  0.28775794 0.84628621 0.18312706 0.45618249]]\nMaximum value is0.032846605051821576\nMinimum value is0.9770668985059905\n"
     ]
    }
   ],
   "source": [
    "a= np.random.uniform(size=(10,10))\n",
    "print(a)\n",
    "h=a.min()\n",
    "g=a.max()\n",
    "print(f\"Maximum value is{h}\")\n",
    "print(f\"Minimum value is{g}\")"
   ]
  },
  {
   "cell_type": "markdown",
   "id": "exempt-organ",
   "metadata": {},
   "source": [
    "**15. Create a 2d array with 1 on the border and 0 inside**"
   ]
  },
  {
   "cell_type": "code",
   "execution_count": 27,
   "id": "sufficient-facility",
   "metadata": {},
   "outputs": [
    {
     "output_type": "stream",
     "name": "stdout",
     "text": [
      "[[1. 1. 1. 1.]\n [1. 1. 1. 1.]\n [1. 1. 1. 1.]\n [1. 1. 1. 1.]]\n[[1. 1. 1. 1.]\n [1. 0. 0. 1.]\n [1. 0. 0. 1.]\n [1. 1. 1. 1.]]\n"
     ]
    }
   ],
   "source": [
    "z = np.ones((4,4))\n",
    "print(z)\n",
    "z[1:3,1:3] = 0\n",
    "print(z)"
   ]
  },
  {
   "cell_type": "code",
   "execution_count": null,
   "metadata": {},
   "outputs": [],
   "source": []
  }
 ],
 "metadata": {
  "kernelspec": {
   "name": "python3",
   "display_name": "Python 3.8.8 64-bit (conda)"
  },
  "language_info": {
   "codemirror_mode": {
    "name": "ipython",
    "version": 3
   },
   "file_extension": ".py",
   "mimetype": "text/x-python",
   "name": "python",
   "nbconvert_exporter": "python",
   "pygments_lexer": "ipython3",
   "version": "3.8.8"
  }
 },
 "nbformat": 4,
 "nbformat_minor": 5
}