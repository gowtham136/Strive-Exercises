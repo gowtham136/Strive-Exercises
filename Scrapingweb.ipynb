{
 "cells": [
  {
   "cell_type": "code",
   "execution_count": 32,
   "id": "26bc907f",
   "metadata": {},
   "outputs": [
    {
     "output_type": "stream",
     "name": "stdout",
     "text": [
      "Day: Today  The temperatures will be: 60 / 51\nDay: Fri 04  The temperatures will be: 60 / 51\nDay: Sat 05  The temperatures will be: 64 / 50\nDay: Sun 06  The temperatures will be: 63 / 50\nDay: Mon 07  The temperatures will be: 59 / 49\nDay: Tue 08  The temperatures will be: 59 / 48\nDay: Wed 09  The temperatures will be: 60 / 48\nDay: Thu 10  The temperatures will be: 62 / 49\nDay: Fri 11  The temperatures will be: 65 / 51\nDay: Sat 12  The temperatures will be: 65 / 51\nDay: Sun 13  The temperatures will be: 66 / 50\nDay: Mon 14  The temperatures will be: 68 / 50\nDay: Tue 15  The temperatures will be: 68 / 51\nDay: Wed 16  The temperatures will be: 69 / 51\nDay: Thu 17  The temperatures will be: 68 / 52\n"
     ]
    }
   ],
   "source": [
    "import requests\n",
    "from bs4 import BeautifulSoup\n",
    "import pandas as pd\n",
    "page = requests.get(\"https://weather.com/weather/tenday/l/San+Francisco+CA?canonicalCityId=dfdaba8cbe3a4d12a8796e1f7b1ccc7174b4b0a2d5ddb1c8566ae9f154fa638c\")\n",
    "\n",
    "soup = BeautifulSoup(page.content, \"html.parser\")\n",
    "\n",
    "\n",
    "day_template = \"detailIndex\"\n",
    "\n",
    "df = pd.DataFrame({},columns = ['day','Temp_u','temp_l'])\n",
    "\n",
    "for i in range(15):\n",
    "     \n",
    "    day = soup.find('div', id=day_template+str(i) )\n",
    "\n",
    "    name = day.find('h2', class_= \"DetailsSummary--daypartName--1Mebr\").text\n",
    "\n",
    "    temp_u = day.find('span', class_ = \"DetailsSummary--highTempValue--3x6cL\").text[:2]\n",
    "    temp_l = temp = day.find('span', class_ = \"DetailsSummary--lowTempValue--1DlJK\").text[:2]\n",
    "    print(\"Day:\", name, \" The temperatures will be:\", temp_u ,\"/\",temp_l ) \n",
    "\n"
   ]
  },
  {
   "cell_type": "code",
   "execution_count": null,
   "metadata": {},
   "outputs": [],
   "source": []
  }
 ],
 "metadata": {
  "kernelspec": {
   "name": "python3",
   "display_name": "Python 3.8.8 64-bit ('base': conda)"
  },
  "language_info": {
   "codemirror_mode": {
    "name": "ipython",
    "version": 3
   },
   "file_extension": ".py",
   "mimetype": "text/x-python",
   "name": "python",
   "nbconvert_exporter": "python",
   "pygments_lexer": "ipython3",
   "version": "3.8.8"
  }
 },
 "nbformat": 4,
 "nbformat_minor": 5
}